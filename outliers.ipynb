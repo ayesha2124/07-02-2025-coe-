{
 "cells": [
  {
   "cell_type": "markdown",
   "id": "ccb91c91",
   "metadata": {},
   "source": [
    "**a data point that lies outside the overall distribution of the dataset\n",
    "to check outliers we can use\n",
    "1.iqr\n",
    "2.box plot\n",
    "3.scatter plot\n",
    "4.z-score**"
   ]
  },
  {
   "cell_type": "code",
   "execution_count": 2,
   "id": "7635aef4",
   "metadata": {},
   "outputs": [],
   "source": [
    "import numpy as np\n",
    "import pandas as pd\n",
    "import matplotlib.pyplot as plt\n",
    "import seaborn as sns\n",
    "from scipy.stats import zscore"
   ]
  },
  {
   "cell_type": "code",
   "execution_count": 28,
   "id": "34e9c665",
   "metadata": {},
   "outputs": [],
   "source": [
    "#create a simple dataset\n",
    "np.random.seed(42)\n",
    "df=np.random.normal(loc=50,scale=10,size=100) #data\n",
    "outlier=np.array([100,110,5,20])   #creating outliers\n",
    "df = np.concatenate([df, outlier])   #adding outliers in the dataset"
   ]
  },
  {
   "cell_type": "code",
   "execution_count": 29,
   "id": "23313820",
   "metadata": {},
   "outputs": [
    {
     "data": {
      "text/html": [
       "<div>\n",
       "<style scoped>\n",
       "    .dataframe tbody tr th:only-of-type {\n",
       "        vertical-align: middle;\n",
       "    }\n",
       "\n",
       "    .dataframe tbody tr th {\n",
       "        vertical-align: top;\n",
       "    }\n",
       "\n",
       "    .dataframe thead th {\n",
       "        text-align: right;\n",
       "    }\n",
       "</style>\n",
       "<table border=\"1\" class=\"dataframe\">\n",
       "  <thead>\n",
       "    <tr style=\"text-align: right;\">\n",
       "      <th></th>\n",
       "      <th>Values</th>\n",
       "    </tr>\n",
       "  </thead>\n",
       "  <tbody>\n",
       "    <tr>\n",
       "      <th>0</th>\n",
       "      <td>54.967142</td>\n",
       "    </tr>\n",
       "    <tr>\n",
       "      <th>1</th>\n",
       "      <td>48.617357</td>\n",
       "    </tr>\n",
       "    <tr>\n",
       "      <th>2</th>\n",
       "      <td>56.476885</td>\n",
       "    </tr>\n",
       "    <tr>\n",
       "      <th>3</th>\n",
       "      <td>65.230299</td>\n",
       "    </tr>\n",
       "    <tr>\n",
       "      <th>4</th>\n",
       "      <td>47.658466</td>\n",
       "    </tr>\n",
       "  </tbody>\n",
       "</table>\n",
       "</div>"
      ],
      "text/plain": [
       "      Values\n",
       "0  54.967142\n",
       "1  48.617357\n",
       "2  56.476885\n",
       "3  65.230299\n",
       "4  47.658466"
      ]
     },
     "execution_count": 29,
     "metadata": {},
     "output_type": "execute_result"
    }
   ],
   "source": [
    "df=pd.DataFrame(df,columns=['Values'])\n",
    "df.head()"
   ]
  },
  {
   "cell_type": "code",
   "execution_count": 30,
   "id": "263abe0a",
   "metadata": {},
   "outputs": [
    {
     "data": {
      "text/html": [
       "<div>\n",
       "<style scoped>\n",
       "    .dataframe tbody tr th:only-of-type {\n",
       "        vertical-align: middle;\n",
       "    }\n",
       "\n",
       "    .dataframe tbody tr th {\n",
       "        vertical-align: top;\n",
       "    }\n",
       "\n",
       "    .dataframe thead th {\n",
       "        text-align: right;\n",
       "    }\n",
       "</style>\n",
       "<table border=\"1\" class=\"dataframe\">\n",
       "  <thead>\n",
       "    <tr style=\"text-align: right;\">\n",
       "      <th></th>\n",
       "      <th>Values</th>\n",
       "    </tr>\n",
       "  </thead>\n",
       "  <tbody>\n",
       "    <tr>\n",
       "      <th>99</th>\n",
       "      <td>47.654129</td>\n",
       "    </tr>\n",
       "    <tr>\n",
       "      <th>100</th>\n",
       "      <td>100.000000</td>\n",
       "    </tr>\n",
       "    <tr>\n",
       "      <th>101</th>\n",
       "      <td>110.000000</td>\n",
       "    </tr>\n",
       "    <tr>\n",
       "      <th>102</th>\n",
       "      <td>5.000000</td>\n",
       "    </tr>\n",
       "    <tr>\n",
       "      <th>103</th>\n",
       "      <td>20.000000</td>\n",
       "    </tr>\n",
       "  </tbody>\n",
       "</table>\n",
       "</div>"
      ],
      "text/plain": [
       "         Values\n",
       "99    47.654129\n",
       "100  100.000000\n",
       "101  110.000000\n",
       "102    5.000000\n",
       "103   20.000000"
      ]
     },
     "execution_count": 30,
     "metadata": {},
     "output_type": "execute_result"
    }
   ],
   "source": [
    "df.tail()"
   ]
  },
  {
   "cell_type": "markdown",
   "id": "5e45b192",
   "metadata": {},
   "source": [
    "**step-2 detecting outliers**"
   ]
  },
  {
   "cell_type": "markdown",
   "id": "45d68cb3",
   "metadata": {},
   "source": [
    "**using scatter plot**"
   ]
  },
  {
   "cell_type": "code",
   "execution_count": 33,
   "id": "ac25c285",
   "metadata": {},
   "outputs": [
    {
     "data": {
      "image/png": "[encoded data removed]",
      "text/plain": [
       "<Figure size 800x500 with 1 Axes>"
      ]
     },
     "metadata": {},
     "output_type": "display_data"
    }
   ],
   "source": [
    "plt.figure(figsize=(8, 5))\n",
    "plt.scatter(range(len(df)), df['Values'], color='skyblue', label='Data Points')\n",
    "plt.axhline(y=df['Values'].mean(),color='red',linestyle='--',label='Mean')\n",
    "plt.title('Scatter Plot for Outliers detection')\n",
    "plt.xlabel('Index')\n",
    "plt.ylabel('Value')\n",
    "plt.grid(False)\n",
    "plt.legend()\n",
    "plt.show()"
   ]
  },
  {
   "cell_type": "markdown",
   "id": "4066751a",
   "metadata": {},
   "source": [
    "**using box plot**"
   ]
  },
  {
   "cell_type": "code",
   "execution_count": 35,
   "id": "4305fa18",
   "metadata": {},
   "outputs": [
    {
     "data": {
      "image/png": "[encoded data removed]",
      "text/plain": [
       "<Figure size 800x500 with 1 Axes>"
      ]
     },
     "metadata": {},
     "output_type": "display_data"
    }
   ],
   "source": [
    "plt.figure(figsize=(8, 5))\n",
    "sns.boxplot(data=df,y='Values')\n",
    "plt.title('Scatter Plot for Outliers detection')\n",
    "plt.show()"
   ]
  },
  {
   "cell_type": "markdown",
   "id": "e5fa4a99",
   "metadata": {},
   "source": [
    "**zscore method**"
   ]
  },
  {
   "cell_type": "code",
   "execution_count": 39,
   "id": "7bdf46b4",
   "metadata": {},
   "outputs": [
    {
     "data": {
      "text/html": [
       "<div>\n",
       "<style scoped>\n",
       "    .dataframe tbody tr th:only-of-type {\n",
       "        vertical-align: middle;\n",
       "    }\n",
       "\n",
       "    .dataframe tbody tr th {\n",
       "        vertical-align: top;\n",
       "    }\n",
       "\n",
       "    .dataframe thead th {\n",
       "        text-align: right;\n",
       "    }\n",
       "</style>\n",
       "<table border=\"1\" class=\"dataframe\">\n",
       "  <thead>\n",
       "    <tr style=\"text-align: right;\">\n",
       "      <th></th>\n",
       "      <th>Values</th>\n",
       "      <th>z-score</th>\n",
       "      <th>outlier_z</th>\n",
       "    </tr>\n",
       "  </thead>\n",
       "  <tbody>\n",
       "    <tr>\n",
       "      <th>100</th>\n",
       "      <td>100.0</td>\n",
       "      <td>3.933444</td>\n",
       "      <td>outlier</td>\n",
       "    </tr>\n",
       "    <tr>\n",
       "      <th>101</th>\n",
       "      <td>110.0</td>\n",
       "      <td>4.709854</td>\n",
       "      <td>outlier</td>\n",
       "    </tr>\n",
       "    <tr>\n",
       "      <th>102</th>\n",
       "      <td>5.0</td>\n",
       "      <td>-3.442445</td>\n",
       "      <td>outlier</td>\n",
       "    </tr>\n",
       "  </tbody>\n",
       "</table>\n",
       "</div>"
      ],
      "text/plain": [
       "     Values   z-score outlier_z\n",
       "100   100.0  3.933444   outlier\n",
       "101   110.0  4.709854   outlier\n",
       "102     5.0 -3.442445   outlier"
      ]
     },
     "execution_count": 39,
     "metadata": {},
     "output_type": "execute_result"
    }
   ],
   "source": [
    "df['z-score']=zscore(df['Values'])\n",
    "df['outlier_z']=df['z-score'].apply(lambda x:'outlier' if abs(x)>3 else 'Normal')\n",
    "df[df['outlier_z']=='outlier']"
   ]
  },
  {
   "cell_type": "markdown",
   "id": "dc9a18c8",
   "metadata": {},
   "source": [
    "**iqr method**"
   ]
  },
  {
   "cell_type": "code",
   "execution_count": 42,
   "id": "97e886ca",
   "metadata": {},
   "outputs": [
    {
     "data": {
      "text/html": [
       "<div>\n",
       "<style scoped>\n",
       "    .dataframe tbody tr th:only-of-type {\n",
       "        vertical-align: middle;\n",
       "    }\n",
       "\n",
       "    .dataframe tbody tr th {\n",
       "        vertical-align: top;\n",
       "    }\n",
       "\n",
       "    .dataframe thead th {\n",
       "        text-align: right;\n",
       "    }\n",
       "</style>\n",
       "<table border=\"1\" class=\"dataframe\">\n",
       "  <thead>\n",
       "    <tr style=\"text-align: right;\">\n",
       "      <th></th>\n",
       "      <th>Values</th>\n",
       "      <th>z-score</th>\n",
       "      <th>outlier_z</th>\n",
       "    </tr>\n",
       "  </thead>\n",
       "  <tbody>\n",
       "    <tr>\n",
       "      <th>74</th>\n",
       "      <td>23.802549</td>\n",
       "      <td>-1.982598</td>\n",
       "      <td>Normal</td>\n",
       "    </tr>\n",
       "    <tr>\n",
       "      <th>100</th>\n",
       "      <td>100.000000</td>\n",
       "      <td>3.933444</td>\n",
       "      <td>outlier</td>\n",
       "    </tr>\n",
       "    <tr>\n",
       "      <th>101</th>\n",
       "      <td>110.000000</td>\n",
       "      <td>4.709854</td>\n",
       "      <td>outlier</td>\n",
       "    </tr>\n",
       "    <tr>\n",
       "      <th>102</th>\n",
       "      <td>5.000000</td>\n",
       "      <td>-3.442445</td>\n",
       "      <td>outlier</td>\n",
       "    </tr>\n",
       "    <tr>\n",
       "      <th>103</th>\n",
       "      <td>20.000000</td>\n",
       "      <td>-2.277831</td>\n",
       "      <td>Normal</td>\n",
       "    </tr>\n",
       "  </tbody>\n",
       "</table>\n",
       "</div>"
      ],
      "text/plain": [
       "         Values   z-score outlier_z\n",
       "74    23.802549 -1.982598    Normal\n",
       "100  100.000000  3.933444   outlier\n",
       "101  110.000000  4.709854   outlier\n",
       "102    5.000000 -3.442445   outlier\n",
       "103   20.000000 -2.277831    Normal"
      ]
     },
     "execution_count": 42,
     "metadata": {},
     "output_type": "execute_result"
    }
   ],
   "source": [
    "Q1 = df['Values'].quantile(0.25)\n",
    "Q3 = df['Values'].quantile(0.75)\n",
    "\n",
    "# Calculating the IQR (Interquartile Range)\n",
    "IQR = Q3 - Q1\n",
    "\n",
    "# Define the outlier bounds\n",
    "lower_bound = Q1 - 1.5 * IQR\n",
    "upper_bound = Q3 + 1.5 * IQR\n",
    "\n",
    "# Find outliers\n",
    "outliers = df[(df['Values'] < lower_bound) | (df['Values'] > upper_bound)]\n",
    "\n",
    "outliers\n"
   ]
  },
  {
   "cell_type": "markdown",
   "id": "ebc1e1ae",
   "metadata": {},
   "source": [
    "**Finding Outliers Using the IQR Method with a 5-Number Summary**\n",
    "The 5-number summary consists of:\n",
    " \n",
    "Minimum (Q0) → The smallest value in the dataset.\n",
    " \n",
    "First Quartile (Q1) → The 25th percentile (lower quartile).\n",
    " \n",
    "Median (Q2) → The 50th percentile (middle value).\n",
    " \n",
    "Third Quartile (Q3) → The 75th percentile (upper quartile).\n",
    " \n",
    "Maximum (Q4) → The largest value in the dataset."
   ]
  },
  {
   "cell_type": "markdown",
   "id": "40de1f4a",
   "metadata": {},
   "source": [
    "The Interquartile Range (IQR) is calculated as:\n",
    " \n",
    "IQR=Q3−Q1\n",
    " \n",
    "Any value outside the range:\n",
    " \n",
    "[Q1−1.5×IQR,Q3+1.5×IQR]  is considered an outlier."
   ]
  },
  {
   "cell_type": "markdown",
   "id": "5d64e871",
   "metadata": {},
   "source": [
    "**Let's generate a dataset, compute the 5-number summary, and find the outliers using the IQR**"
   ]
  },
  {
   "cell_type": "code",
   "execution_count": 44,
   "id": "47b9ff3c",
   "metadata": {},
   "outputs": [
    {
     "name": "stdout",
     "output_type": "stream",
     "text": [
      "5-Number Summary:\n",
      "Min: 5.0, Q1: 43.874401021766715, Median (Q2): 48.73043708220287, Q3: 55.00852473036764, Max: 120.0\n",
      "IQR: 11.134123708600924\n",
      "Lower Bound: 27.17321545886533, Upper Bound: 71.70971029326903\n",
      "Outliers: [ 23.80254896  10.         110.           5.         120.        ]\n"
     ]
    }
   ],
   "source": [
    "import numpy as np\n",
    "\n",
    "# Step 1: Create a dataset\n",
    "np.random.seed(42)\n",
    "data = np.random.normal(loc=50, scale=10, size=100)  # Normal distribution (mean=50, std=10)\n",
    "outliers = np.array([10, 110, 5, 120])  # Extreme values (outliers)\n",
    "data = np.concatenate([data, outliers])  # Merge normal data with outliers\n",
    "\n",
    "# Step 2: Compute the 5-number summary\n",
    "Q1 = np.percentile(data, 25)  # First Quartile (25th percentile)\n",
    "Q2 = np.median(data)          # Median (50th percentile)\n",
    "Q3 = np.percentile(data, 75)  # Third Quartile (75th percentile)\n",
    "min_value = np.min(data)      # Minimum\n",
    "max_value = np.max(data)      # Maximum\n",
    "\n",
    "# Step 3: Compute IQR\n",
    "IQR = Q3 - Q1\n",
    "\n",
    "# Step 4: Compute Outlier Boundaries\n",
    "lower_bound = Q1 - 1.5 * IQR\n",
    "upper_bound = Q3 + 1.5 * IQR\n",
    "\n",
    "# Step 5: Find Outliers\n",
    "outliers = data[(data < lower_bound) | (data > upper_bound)]\n",
    "\n",
    "# Step 6: Print Results\n",
    "print(f\"5-Number Summary:\\nMin: {min_value}, Q1: {Q1}, Median (Q2): {Q2}, Q3: {Q3}, Max: {max_value}\")\n",
    "print(f\"IQR: {IQR}\")\n",
    "print(f\"Lower Bound: {lower_bound}, Upper Bound: {upper_bound}\")\n",
    "print(f\"Outliers: {outliers}\")"
   ]
  },
  {
   "cell_type": "markdown",
   "id": "1b70d4d0",
   "metadata": {},
   "source": [
    "**Balancing a data set with downsampling**\n",
    "      \n",
    "    Imagine we have a data set for a binary classification task where the class labels are imbalanced and we want to downsample the majority class  balance the dataset"
   ]
  },
  {
   "cell_type": "code",
   "execution_count": 45,
   "id": "9e039f1d",
   "metadata": {},
   "outputs": [],
   "source": [
    "import pandas as pd\n",
    "from sklearn.utils import resample\n",
    "\n",
    "# Sample dataset\n",
    "df = pd.DataFrame({\n",
    "    'Age': [22, 25, 27, 28, 30, 35, 40, 45, 50, 55, 60, 65, 70],\n",
    "    'Income': [2000, 2500, 2700, 3200, 3500, 3800, 4000, 4200, 4300, 4500, 5000, 5500, 6000],\n",
    "    'Class': ['High', 'Low', 'High', 'Low', 'High', 'High', 'High', 'Low', 'High', 'Low', 'High', 'Low', 'Low']\n",
    "})\n",
    "\n"
   ]
  },
  {
   "cell_type": "code",
   "execution_count": 47,
   "id": "99611c47",
   "metadata": {},
   "outputs": [],
   "source": [
    "# Separate majority and minority classes\n",
    "df_high = df[df['Class'] == 'High']\n",
    "df_low = df[df['Class'] == 'Low']"
   ]
  },
  {
   "cell_type": "code",
   "execution_count": 48,
   "id": "43465bc1",
   "metadata": {},
   "outputs": [],
   "source": [
    "# Downsample majority class\n",
    "df_high_downsampled = resample(df_high, replace=False, n_samples=len(df_low), random_state=42)"
   ]
  },
  {
   "cell_type": "code",
   "execution_count": 49,
   "id": "400c674a",
   "metadata": {},
   "outputs": [],
   "source": [
    "# Combine downsampled majority class with minority class\n",
    "df_balanced = pd.concat([df_high_downsampled, df_low])"
   ]
  },
  {
   "cell_type": "code",
   "execution_count": 50,
   "id": "4c5e0fa8",
   "metadata": {},
   "outputs": [
    {
     "name": "stdout",
     "output_type": "stream",
     "text": [
      "Class\n",
      "High    6\n",
      "Low     6\n",
      "Name: count, dtype: int64\n"
     ]
    }
   ],
   "source": [
    "print(df_balanced['Class'].value_counts())"
   ]
  },
  {
   "cell_type": "code",
   "execution_count": 51,
   "id": "eef0bbef",
   "metadata": {},
   "outputs": [
    {
     "data": {
      "text/html": [
       "<div>\n",
       "<style scoped>\n",
       "    .dataframe tbody tr th:only-of-type {\n",
       "        vertical-align: middle;\n",
       "    }\n",
       "\n",
       "    .dataframe tbody tr th {\n",
       "        vertical-align: top;\n",
       "    }\n",
       "\n",
       "    .dataframe thead th {\n",
       "        text-align: right;\n",
       "    }\n",
       "</style>\n",
       "<table border=\"1\" class=\"dataframe\">\n",
       "  <thead>\n",
       "    <tr style=\"text-align: right;\">\n",
       "      <th></th>\n",
       "      <th>Age</th>\n",
       "      <th>Income</th>\n",
       "      <th>Class</th>\n",
       "    </tr>\n",
       "  </thead>\n",
       "  <tbody>\n",
       "    <tr>\n",
       "      <th>0</th>\n",
       "      <td>22</td>\n",
       "      <td>2000</td>\n",
       "      <td>High</td>\n",
       "    </tr>\n",
       "    <tr>\n",
       "      <th>2</th>\n",
       "      <td>27</td>\n",
       "      <td>2700</td>\n",
       "      <td>High</td>\n",
       "    </tr>\n",
       "    <tr>\n",
       "      <th>4</th>\n",
       "      <td>30</td>\n",
       "      <td>3500</td>\n",
       "      <td>High</td>\n",
       "    </tr>\n",
       "    <tr>\n",
       "      <th>5</th>\n",
       "      <td>35</td>\n",
       "      <td>3800</td>\n",
       "      <td>High</td>\n",
       "    </tr>\n",
       "    <tr>\n",
       "      <th>6</th>\n",
       "      <td>40</td>\n",
       "      <td>4000</td>\n",
       "      <td>High</td>\n",
       "    </tr>\n",
       "    <tr>\n",
       "      <th>8</th>\n",
       "      <td>50</td>\n",
       "      <td>4300</td>\n",
       "      <td>High</td>\n",
       "    </tr>\n",
       "    <tr>\n",
       "      <th>10</th>\n",
       "      <td>60</td>\n",
       "      <td>5000</td>\n",
       "      <td>High</td>\n",
       "    </tr>\n",
       "  </tbody>\n",
       "</table>\n",
       "</div>"
      ],
      "text/plain": [
       "    Age  Income Class\n",
       "0    22    2000  High\n",
       "2    27    2700  High\n",
       "4    30    3500  High\n",
       "5    35    3800  High\n",
       "6    40    4000  High\n",
       "8    50    4300  High\n",
       "10   60    5000  High"
      ]
     },
     "execution_count": 51,
     "metadata": {},
     "output_type": "execute_result"
    }
   ],
   "source": [
    "df_high"
   ]
  },
  {
   "cell_type": "code",
   "execution_count": 52,
   "id": "9d15983a",
   "metadata": {},
   "outputs": [
    {
     "data": {
      "text/html": [
       "<div>\n",
       "<style scoped>\n",
       "    .dataframe tbody tr th:only-of-type {\n",
       "        vertical-align: middle;\n",
       "    }\n",
       "\n",
       "    .dataframe tbody tr th {\n",
       "        vertical-align: top;\n",
       "    }\n",
       "\n",
       "    .dataframe thead th {\n",
       "        text-align: right;\n",
       "    }\n",
       "</style>\n",
       "<table border=\"1\" class=\"dataframe\">\n",
       "  <thead>\n",
       "    <tr style=\"text-align: right;\">\n",
       "      <th></th>\n",
       "      <th>Age</th>\n",
       "      <th>Income</th>\n",
       "      <th>Class</th>\n",
       "    </tr>\n",
       "  </thead>\n",
       "  <tbody>\n",
       "    <tr>\n",
       "      <th>1</th>\n",
       "      <td>25</td>\n",
       "      <td>2500</td>\n",
       "      <td>Low</td>\n",
       "    </tr>\n",
       "    <tr>\n",
       "      <th>3</th>\n",
       "      <td>28</td>\n",
       "      <td>3200</td>\n",
       "      <td>Low</td>\n",
       "    </tr>\n",
       "    <tr>\n",
       "      <th>7</th>\n",
       "      <td>45</td>\n",
       "      <td>4200</td>\n",
       "      <td>Low</td>\n",
       "    </tr>\n",
       "    <tr>\n",
       "      <th>9</th>\n",
       "      <td>55</td>\n",
       "      <td>4500</td>\n",
       "      <td>Low</td>\n",
       "    </tr>\n",
       "    <tr>\n",
       "      <th>11</th>\n",
       "      <td>65</td>\n",
       "      <td>5500</td>\n",
       "      <td>Low</td>\n",
       "    </tr>\n",
       "    <tr>\n",
       "      <th>12</th>\n",
       "      <td>70</td>\n",
       "      <td>6000</td>\n",
       "      <td>Low</td>\n",
       "    </tr>\n",
       "  </tbody>\n",
       "</table>\n",
       "</div>"
      ],
      "text/plain": [
       "    Age  Income Class\n",
       "1    25    2500   Low\n",
       "3    28    3200   Low\n",
       "7    45    4200   Low\n",
       "9    55    4500   Low\n",
       "11   65    5500   Low\n",
       "12   70    6000   Low"
      ]
     },
     "execution_count": 52,
     "metadata": {},
     "output_type": "execute_result"
    }
   ],
   "source": [
    "df_low"
   ]
  },
  {
   "cell_type": "code",
   "execution_count": 65,
   "id": "b7d56213",
   "metadata": {},
   "outputs": [
    {
     "data": {
      "text/html": [
       "<div>\n",
       "<style scoped>\n",
       "    .dataframe tbody tr th:only-of-type {\n",
       "        vertical-align: middle;\n",
       "    }\n",
       "\n",
       "    .dataframe tbody tr th {\n",
       "        vertical-align: top;\n",
       "    }\n",
       "\n",
       "    .dataframe thead th {\n",
       "        text-align: right;\n",
       "    }\n",
       "</style>\n",
       "<table border=\"1\" class=\"dataframe\">\n",
       "  <thead>\n",
       "    <tr style=\"text-align: right;\">\n",
       "      <th></th>\n",
       "      <th>Age</th>\n",
       "      <th>Income</th>\n",
       "      <th>Class</th>\n",
       "    </tr>\n",
       "  </thead>\n",
       "  <tbody>\n",
       "    <tr>\n",
       "      <th>0</th>\n",
       "      <td>22</td>\n",
       "      <td>2000</td>\n",
       "      <td>High</td>\n",
       "    </tr>\n",
       "    <tr>\n",
       "      <th>2</th>\n",
       "      <td>27</td>\n",
       "      <td>2700</td>\n",
       "      <td>High</td>\n",
       "    </tr>\n",
       "    <tr>\n",
       "      <th>8</th>\n",
       "      <td>50</td>\n",
       "      <td>4300</td>\n",
       "      <td>High</td>\n",
       "    </tr>\n",
       "    <tr>\n",
       "      <th>4</th>\n",
       "      <td>30</td>\n",
       "      <td>3500</td>\n",
       "      <td>High</td>\n",
       "    </tr>\n",
       "    <tr>\n",
       "      <th>6</th>\n",
       "      <td>40</td>\n",
       "      <td>4000</td>\n",
       "      <td>High</td>\n",
       "    </tr>\n",
       "    <tr>\n",
       "      <th>5</th>\n",
       "      <td>35</td>\n",
       "      <td>3800</td>\n",
       "      <td>High</td>\n",
       "    </tr>\n",
       "    <tr>\n",
       "      <th>1</th>\n",
       "      <td>25</td>\n",
       "      <td>2500</td>\n",
       "      <td>Low</td>\n",
       "    </tr>\n",
       "    <tr>\n",
       "      <th>3</th>\n",
       "      <td>28</td>\n",
       "      <td>3200</td>\n",
       "      <td>Low</td>\n",
       "    </tr>\n",
       "    <tr>\n",
       "      <th>7</th>\n",
       "      <td>45</td>\n",
       "      <td>4200</td>\n",
       "      <td>Low</td>\n",
       "    </tr>\n",
       "    <tr>\n",
       "      <th>9</th>\n",
       "      <td>55</td>\n",
       "      <td>4500</td>\n",
       "      <td>Low</td>\n",
       "    </tr>\n",
       "    <tr>\n",
       "      <th>11</th>\n",
       "      <td>65</td>\n",
       "      <td>5500</td>\n",
       "      <td>Low</td>\n",
       "    </tr>\n",
       "    <tr>\n",
       "      <th>12</th>\n",
       "      <td>70</td>\n",
       "      <td>6000</td>\n",
       "      <td>Low</td>\n",
       "    </tr>\n",
       "  </tbody>\n",
       "</table>\n",
       "</div>"
      ],
      "text/plain": [
       "    Age  Income Class\n",
       "0    22    2000  High\n",
       "2    27    2700  High\n",
       "8    50    4300  High\n",
       "4    30    3500  High\n",
       "6    40    4000  High\n",
       "5    35    3800  High\n",
       "1    25    2500   Low\n",
       "3    28    3200   Low\n",
       "7    45    4200   Low\n",
       "9    55    4500   Low\n",
       "11   65    5500   Low\n",
       "12   70    6000   Low"
      ]
     },
     "execution_count": 65,
     "metadata": {},
     "output_type": "execute_result"
    }
   ],
   "source": [
    "df_balanced"
   ]
  },
  {
   "cell_type": "code",
   "execution_count": 53,
   "id": "10dff577",
   "metadata": {},
   "outputs": [
    {
     "data": {
      "text/plain": [
       "0     High\n",
       "2     High\n",
       "8     High\n",
       "4     High\n",
       "6     High\n",
       "5     High\n",
       "1      Low\n",
       "3      Low\n",
       "7      Low\n",
       "9      Low\n",
       "11     Low\n",
       "12     Low\n",
       "Name: Class, dtype: object"
      ]
     },
     "execution_count": 53,
     "metadata": {},
     "output_type": "execute_result"
    }
   ],
   "source": [
    "df_balanced['Class']"
   ]
  },
  {
   "cell_type": "markdown",
   "id": "aeb057e3",
   "metadata": {},
   "source": [
    "**upsampling**"
   ]
  },
  {
   "cell_type": "code",
   "execution_count": 56,
   "id": "42199350",
   "metadata": {},
   "outputs": [],
   "source": [
    "import pandas as pd\n",
    "from sklearn.utils import resample\n",
    "\n",
    "# Sample dataset\n",
    "df = pd.DataFrame({\n",
    "    'Age': [22, 25, 27, 28, 30, 35, 40, 45, 50, 55, 60, 65, 70],\n",
    "    'Income': [2000, 2500, 2700, 3200, 3500, 3800, 4000, 4200, 4300, 4500, 5000, 5500, 6000],\n",
    "    'Class': ['Minority', 'Majority', 'Majority', 'Majority', 'Majority', 'Minority',\n",
    "              'Minority', 'Minority', 'Majority', 'Majority', 'Majority', 'Majority', 'Majority']\n",
    "})\n",
    "\n"
   ]
  },
  {
   "cell_type": "code",
   "execution_count": 57,
   "id": "b1a65aac",
   "metadata": {},
   "outputs": [],
   "source": [
    "df[df['Class'] == 'Majority']\n",
    "# Separate majority and minority classes\n",
    "df_majority = df[df['Class'] == 'Majority']\n",
    "df_majority = df[df['Class'] == 'Minority']"
   ]
  },
  {
   "cell_type": "code",
   "execution_count": 58,
   "id": "add59a53",
   "metadata": {},
   "outputs": [],
   "source": [
    "# Upsample minority class\n",
    "df_minority_upsampled = resample(df_minority, replace=True, n_samples=len(df_majority), random_state=42)"
   ]
  },
  {
   "cell_type": "code",
   "execution_count": 59,
   "id": "6c07aadb",
   "metadata": {},
   "outputs": [],
   "source": [
    "# Combine upsampled minority class with majority class\n",
    "df_balanced_up = pd.concat([df_majority, df_minority_upsampled])\n"
   ]
  },
  {
   "cell_type": "code",
   "execution_count": 60,
   "id": "784ffc5d",
   "metadata": {},
   "outputs": [
    {
     "name": "stdout",
     "output_type": "stream",
     "text": [
      "Class\n",
      "Majority    9\n",
      "Minority    9\n",
      "Name: count, dtype: int64\n"
     ]
    }
   ],
   "source": [
    "# Display new class distribution\n",
    "print(df_balanced_up['Class'].value_counts())"
   ]
  },
  {
   "cell_type": "code",
   "execution_count": 61,
   "id": "3cece665",
   "metadata": {},
   "outputs": [
    {
     "data": {
      "text/html": [
       "<div>\n",
       "<style scoped>\n",
       "    .dataframe tbody tr th:only-of-type {\n",
       "        vertical-align: middle;\n",
       "    }\n",
       "\n",
       "    .dataframe tbody tr th {\n",
       "        vertical-align: top;\n",
       "    }\n",
       "\n",
       "    .dataframe thead th {\n",
       "        text-align: right;\n",
       "    }\n",
       "</style>\n",
       "<table border=\"1\" class=\"dataframe\">\n",
       "  <thead>\n",
       "    <tr style=\"text-align: right;\">\n",
       "      <th></th>\n",
       "      <th>Age</th>\n",
       "      <th>Income</th>\n",
       "      <th>Class</th>\n",
       "    </tr>\n",
       "  </thead>\n",
       "  <tbody>\n",
       "    <tr>\n",
       "      <th>1</th>\n",
       "      <td>25</td>\n",
       "      <td>2500</td>\n",
       "      <td>Majority</td>\n",
       "    </tr>\n",
       "    <tr>\n",
       "      <th>2</th>\n",
       "      <td>27</td>\n",
       "      <td>2700</td>\n",
       "      <td>Majority</td>\n",
       "    </tr>\n",
       "    <tr>\n",
       "      <th>3</th>\n",
       "      <td>28</td>\n",
       "      <td>3200</td>\n",
       "      <td>Majority</td>\n",
       "    </tr>\n",
       "    <tr>\n",
       "      <th>4</th>\n",
       "      <td>30</td>\n",
       "      <td>3500</td>\n",
       "      <td>Majority</td>\n",
       "    </tr>\n",
       "    <tr>\n",
       "      <th>8</th>\n",
       "      <td>50</td>\n",
       "      <td>4300</td>\n",
       "      <td>Majority</td>\n",
       "    </tr>\n",
       "    <tr>\n",
       "      <th>9</th>\n",
       "      <td>55</td>\n",
       "      <td>4500</td>\n",
       "      <td>Majority</td>\n",
       "    </tr>\n",
       "    <tr>\n",
       "      <th>10</th>\n",
       "      <td>60</td>\n",
       "      <td>5000</td>\n",
       "      <td>Majority</td>\n",
       "    </tr>\n",
       "    <tr>\n",
       "      <th>11</th>\n",
       "      <td>65</td>\n",
       "      <td>5500</td>\n",
       "      <td>Majority</td>\n",
       "    </tr>\n",
       "    <tr>\n",
       "      <th>12</th>\n",
       "      <td>70</td>\n",
       "      <td>6000</td>\n",
       "      <td>Majority</td>\n",
       "    </tr>\n",
       "  </tbody>\n",
       "</table>\n",
       "</div>"
      ],
      "text/plain": [
       "    Age  Income     Class\n",
       "1    25    2500  Majority\n",
       "2    27    2700  Majority\n",
       "3    28    3200  Majority\n",
       "4    30    3500  Majority\n",
       "8    50    4300  Majority\n",
       "9    55    4500  Majority\n",
       "10   60    5000  Majority\n",
       "11   65    5500  Majority\n",
       "12   70    6000  Majority"
      ]
     },
     "execution_count": 61,
     "metadata": {},
     "output_type": "execute_result"
    }
   ],
   "source": [
    "df_majority"
   ]
  },
  {
   "cell_type": "code",
   "execution_count": 62,
   "id": "4ddf3b21",
   "metadata": {},
   "outputs": [
    {
     "data": {
      "text/html": [
       "<div>\n",
       "<style scoped>\n",
       "    .dataframe tbody tr th:only-of-type {\n",
       "        vertical-align: middle;\n",
       "    }\n",
       "\n",
       "    .dataframe tbody tr th {\n",
       "        vertical-align: top;\n",
       "    }\n",
       "\n",
       "    .dataframe thead th {\n",
       "        text-align: right;\n",
       "    }\n",
       "</style>\n",
       "<table border=\"1\" class=\"dataframe\">\n",
       "  <thead>\n",
       "    <tr style=\"text-align: right;\">\n",
       "      <th></th>\n",
       "      <th>Age</th>\n",
       "      <th>Income</th>\n",
       "      <th>Class</th>\n",
       "    </tr>\n",
       "  </thead>\n",
       "  <tbody>\n",
       "    <tr>\n",
       "      <th>1</th>\n",
       "      <td>25</td>\n",
       "      <td>2500</td>\n",
       "      <td>Majority</td>\n",
       "    </tr>\n",
       "    <tr>\n",
       "      <th>2</th>\n",
       "      <td>27</td>\n",
       "      <td>2700</td>\n",
       "      <td>Majority</td>\n",
       "    </tr>\n",
       "    <tr>\n",
       "      <th>3</th>\n",
       "      <td>28</td>\n",
       "      <td>3200</td>\n",
       "      <td>Majority</td>\n",
       "    </tr>\n",
       "    <tr>\n",
       "      <th>4</th>\n",
       "      <td>30</td>\n",
       "      <td>3500</td>\n",
       "      <td>Majority</td>\n",
       "    </tr>\n",
       "    <tr>\n",
       "      <th>8</th>\n",
       "      <td>50</td>\n",
       "      <td>4300</td>\n",
       "      <td>Majority</td>\n",
       "    </tr>\n",
       "    <tr>\n",
       "      <th>9</th>\n",
       "      <td>55</td>\n",
       "      <td>4500</td>\n",
       "      <td>Majority</td>\n",
       "    </tr>\n",
       "    <tr>\n",
       "      <th>10</th>\n",
       "      <td>60</td>\n",
       "      <td>5000</td>\n",
       "      <td>Majority</td>\n",
       "    </tr>\n",
       "    <tr>\n",
       "      <th>11</th>\n",
       "      <td>65</td>\n",
       "      <td>5500</td>\n",
       "      <td>Majority</td>\n",
       "    </tr>\n",
       "    <tr>\n",
       "      <th>12</th>\n",
       "      <td>70</td>\n",
       "      <td>6000</td>\n",
       "      <td>Majority</td>\n",
       "    </tr>\n",
       "  </tbody>\n",
       "</table>\n",
       "</div>"
      ],
      "text/plain": [
       "    Age  Income     Class\n",
       "1    25    2500  Majority\n",
       "2    27    2700  Majority\n",
       "3    28    3200  Majority\n",
       "4    30    3500  Majority\n",
       "8    50    4300  Majority\n",
       "9    55    4500  Majority\n",
       "10   60    5000  Majority\n",
       "11   65    5500  Majority\n",
       "12   70    6000  Majority"
      ]
     },
     "execution_count": 62,
     "metadata": {},
     "output_type": "execute_result"
    }
   ],
   "source": [
    "df_majority"
   ]
  },
  {
   "cell_type": "code",
   "execution_count": 63,
   "id": "7b1e8085",
   "metadata": {},
   "outputs": [
    {
     "data": {
      "text/html": [
       "<div>\n",
       "<style scoped>\n",
       "    .dataframe tbody tr th:only-of-type {\n",
       "        vertical-align: middle;\n",
       "    }\n",
       "\n",
       "    .dataframe tbody tr th {\n",
       "        vertical-align: top;\n",
       "    }\n",
       "\n",
       "    .dataframe thead th {\n",
       "        text-align: right;\n",
       "    }\n",
       "</style>\n",
       "<table border=\"1\" class=\"dataframe\">\n",
       "  <thead>\n",
       "    <tr style=\"text-align: right;\">\n",
       "      <th></th>\n",
       "      <th>Age</th>\n",
       "      <th>Income</th>\n",
       "      <th>Class</th>\n",
       "    </tr>\n",
       "  </thead>\n",
       "  <tbody>\n",
       "    <tr>\n",
       "      <th>6</th>\n",
       "      <td>40</td>\n",
       "      <td>4000</td>\n",
       "      <td>Minority</td>\n",
       "    </tr>\n",
       "    <tr>\n",
       "      <th>7</th>\n",
       "      <td>45</td>\n",
       "      <td>4200</td>\n",
       "      <td>Minority</td>\n",
       "    </tr>\n",
       "    <tr>\n",
       "      <th>0</th>\n",
       "      <td>22</td>\n",
       "      <td>2000</td>\n",
       "      <td>Minority</td>\n",
       "    </tr>\n",
       "    <tr>\n",
       "      <th>6</th>\n",
       "      <td>40</td>\n",
       "      <td>4000</td>\n",
       "      <td>Minority</td>\n",
       "    </tr>\n",
       "    <tr>\n",
       "      <th>6</th>\n",
       "      <td>40</td>\n",
       "      <td>4000</td>\n",
       "      <td>Minority</td>\n",
       "    </tr>\n",
       "    <tr>\n",
       "      <th>7</th>\n",
       "      <td>45</td>\n",
       "      <td>4200</td>\n",
       "      <td>Minority</td>\n",
       "    </tr>\n",
       "    <tr>\n",
       "      <th>0</th>\n",
       "      <td>22</td>\n",
       "      <td>2000</td>\n",
       "      <td>Minority</td>\n",
       "    </tr>\n",
       "    <tr>\n",
       "      <th>0</th>\n",
       "      <td>22</td>\n",
       "      <td>2000</td>\n",
       "      <td>Minority</td>\n",
       "    </tr>\n",
       "    <tr>\n",
       "      <th>6</th>\n",
       "      <td>40</td>\n",
       "      <td>4000</td>\n",
       "      <td>Minority</td>\n",
       "    </tr>\n",
       "  </tbody>\n",
       "</table>\n",
       "</div>"
      ],
      "text/plain": [
       "   Age  Income     Class\n",
       "6   40    4000  Minority\n",
       "7   45    4200  Minority\n",
       "0   22    2000  Minority\n",
       "6   40    4000  Minority\n",
       "6   40    4000  Minority\n",
       "7   45    4200  Minority\n",
       "0   22    2000  Minority\n",
       "0   22    2000  Minority\n",
       "6   40    4000  Minority"
      ]
     },
     "execution_count": 63,
     "metadata": {},
     "output_type": "execute_result"
    }
   ],
   "source": [
    "df_minority_upsampled"
   ]
  },
  {
   "cell_type": "code",
   "execution_count": 64,
   "id": "b788dd25",
   "metadata": {},
   "outputs": [
    {
     "data": {
      "text/html": [
       "<div>\n",
       "<style scoped>\n",
       "    .dataframe tbody tr th:only-of-type {\n",
       "        vertical-align: middle;\n",
       "    }\n",
       "\n",
       "    .dataframe tbody tr th {\n",
       "        vertical-align: top;\n",
       "    }\n",
       "\n",
       "    .dataframe thead th {\n",
       "        text-align: right;\n",
       "    }\n",
       "</style>\n",
       "<table border=\"1\" class=\"dataframe\">\n",
       "  <thead>\n",
       "    <tr style=\"text-align: right;\">\n",
       "      <th></th>\n",
       "      <th>Age</th>\n",
       "      <th>Income</th>\n",
       "      <th>Class</th>\n",
       "    </tr>\n",
       "  </thead>\n",
       "  <tbody>\n",
       "    <tr>\n",
       "      <th>1</th>\n",
       "      <td>25</td>\n",
       "      <td>2500</td>\n",
       "      <td>Majority</td>\n",
       "    </tr>\n",
       "    <tr>\n",
       "      <th>2</th>\n",
       "      <td>27</td>\n",
       "      <td>2700</td>\n",
       "      <td>Majority</td>\n",
       "    </tr>\n",
       "    <tr>\n",
       "      <th>3</th>\n",
       "      <td>28</td>\n",
       "      <td>3200</td>\n",
       "      <td>Majority</td>\n",
       "    </tr>\n",
       "    <tr>\n",
       "      <th>4</th>\n",
       "      <td>30</td>\n",
       "      <td>3500</td>\n",
       "      <td>Majority</td>\n",
       "    </tr>\n",
       "    <tr>\n",
       "      <th>8</th>\n",
       "      <td>50</td>\n",
       "      <td>4300</td>\n",
       "      <td>Majority</td>\n",
       "    </tr>\n",
       "    <tr>\n",
       "      <th>9</th>\n",
       "      <td>55</td>\n",
       "      <td>4500</td>\n",
       "      <td>Majority</td>\n",
       "    </tr>\n",
       "    <tr>\n",
       "      <th>10</th>\n",
       "      <td>60</td>\n",
       "      <td>5000</td>\n",
       "      <td>Majority</td>\n",
       "    </tr>\n",
       "    <tr>\n",
       "      <th>11</th>\n",
       "      <td>65</td>\n",
       "      <td>5500</td>\n",
       "      <td>Majority</td>\n",
       "    </tr>\n",
       "    <tr>\n",
       "      <th>12</th>\n",
       "      <td>70</td>\n",
       "      <td>6000</td>\n",
       "      <td>Majority</td>\n",
       "    </tr>\n",
       "    <tr>\n",
       "      <th>6</th>\n",
       "      <td>40</td>\n",
       "      <td>4000</td>\n",
       "      <td>Minority</td>\n",
       "    </tr>\n",
       "    <tr>\n",
       "      <th>7</th>\n",
       "      <td>45</td>\n",
       "      <td>4200</td>\n",
       "      <td>Minority</td>\n",
       "    </tr>\n",
       "    <tr>\n",
       "      <th>0</th>\n",
       "      <td>22</td>\n",
       "      <td>2000</td>\n",
       "      <td>Minority</td>\n",
       "    </tr>\n",
       "    <tr>\n",
       "      <th>6</th>\n",
       "      <td>40</td>\n",
       "      <td>4000</td>\n",
       "      <td>Minority</td>\n",
       "    </tr>\n",
       "    <tr>\n",
       "      <th>6</th>\n",
       "      <td>40</td>\n",
       "      <td>4000</td>\n",
       "      <td>Minority</td>\n",
       "    </tr>\n",
       "    <tr>\n",
       "      <th>7</th>\n",
       "      <td>45</td>\n",
       "      <td>4200</td>\n",
       "      <td>Minority</td>\n",
       "    </tr>\n",
       "    <tr>\n",
       "      <th>0</th>\n",
       "      <td>22</td>\n",
       "      <td>2000</td>\n",
       "      <td>Minority</td>\n",
       "    </tr>\n",
       "    <tr>\n",
       "      <th>0</th>\n",
       "      <td>22</td>\n",
       "      <td>2000</td>\n",
       "      <td>Minority</td>\n",
       "    </tr>\n",
       "    <tr>\n",
       "      <th>6</th>\n",
       "      <td>40</td>\n",
       "      <td>4000</td>\n",
       "      <td>Minority</td>\n",
       "    </tr>\n",
       "  </tbody>\n",
       "</table>\n",
       "</div>"
      ],
      "text/plain": [
       "    Age  Income     Class\n",
       "1    25    2500  Majority\n",
       "2    27    2700  Majority\n",
       "3    28    3200  Majority\n",
       "4    30    3500  Majority\n",
       "8    50    4300  Majority\n",
       "9    55    4500  Majority\n",
       "10   60    5000  Majority\n",
       "11   65    5500  Majority\n",
       "12   70    6000  Majority\n",
       "6    40    4000  Minority\n",
       "7    45    4200  Minority\n",
       "0    22    2000  Minority\n",
       "6    40    4000  Minority\n",
       "6    40    4000  Minority\n",
       "7    45    4200  Minority\n",
       "0    22    2000  Minority\n",
       "0    22    2000  Minority\n",
       "6    40    4000  Minority"
      ]
     },
     "execution_count": 64,
     "metadata": {},
     "output_type": "execute_result"
    }
   ],
   "source": [
    "df_balanced_up"
   ]
  },
  {
   "cell_type": "code",
   "execution_count": 77,
   "id": "e2347ec6",
   "metadata": {},
   "outputs": [
    {
     "name": "stdout",
     "output_type": "stream",
     "text": [
      "Requirement already satisfied: scikit-learn in c:\\users\\cvr\\anaconda3\\lib\\site-packages (1.6.1)\n",
      "Requirement already satisfied: imbalanced-learn in c:\\users\\cvr\\anaconda3\\lib\\site-packages (0.13.0)\n",
      "Requirement already satisfied: numpy>=1.19.5 in c:\\users\\cvr\\anaconda3\\lib\\site-packages (from scikit-learn) (1.24.3)\n",
      "Requirement already satisfied: scipy>=1.6.0 in c:\\users\\cvr\\anaconda3\\lib\\site-packages (from scikit-learn) (1.11.1)\n",
      "Requirement already satisfied: joblib>=1.2.0 in c:\\users\\cvr\\anaconda3\\lib\\site-packages (from scikit-learn) (1.2.0)\n",
      "Requirement already satisfied: threadpoolctl>=3.1.0 in c:\\users\\cvr\\anaconda3\\lib\\site-packages (from scikit-learn) (3.5.0)\n",
      "Requirement already satisfied: sklearn-compat<1,>=0.1 in c:\\users\\cvr\\anaconda3\\lib\\site-packages (from imbalanced-learn) (0.1.3)\n",
      "Note: you may need to restart the kernel to use updated packages.\n"
     ]
    }
   ],
   "source": [
    "pip install --user --upgrade scikit-learn imbalanced-learn"
   ]
  },
  {
   "cell_type": "code",
   "execution_count": 69,
   "id": "2ab5f246",
   "metadata": {},
   "outputs": [
    {
     "name": "stdout",
     "output_type": "stream",
     "text": [
      "Requirement already satisfied: imbalanced-learn in c:\\users\\cvr\\anaconda3\\lib\\site-packages (0.10.1)\n",
      "Collecting imbalanced-learn\n",
      "  Obtaining dependency information for imbalanced-learn from https://files.pythonhosted.org/packages/9d/41/721fec82606242a2072ee909086ff918dfad7d0199a9dfd4928df9c72494/imbalanced_learn-0.13.0-py3-none-any.whl.metadata\n",
      "  Downloading imbalanced_learn-0.13.0-py3-none-any.whl.metadata (8.8 kB)\n",
      "Requirement already satisfied: numpy<3,>=1.24.3 in c:\\users\\cvr\\anaconda3\\lib\\site-packages (from imbalanced-learn) (1.24.3)\n",
      "Requirement already satisfied: scipy<2,>=1.10.1 in c:\\users\\cvr\\anaconda3\\lib\\site-packages (from imbalanced-learn) (1.11.1)\n",
      "Requirement already satisfied: scikit-learn<2,>=1.3.2 in c:\\users\\cvr\\anaconda3\\lib\\site-packages (from imbalanced-learn) (1.6.1)\n",
      "Collecting sklearn-compat<1,>=0.1 (from imbalanced-learn)\n",
      "  Obtaining dependency information for sklearn-compat<1,>=0.1 from https://files.pythonhosted.org/packages/f0/a8/ad69cf130fbd017660cdd64abbef3f28135d9e2e15fe3002e03c5be0ca38/sklearn_compat-0.1.3-py3-none-any.whl.metadata\n",
      "  Downloading sklearn_compat-0.1.3-py3-none-any.whl.metadata (18 kB)\n",
      "Requirement already satisfied: joblib<2,>=1.1.1 in c:\\users\\cvr\\anaconda3\\lib\\site-packages (from imbalanced-learn) (1.2.0)\n",
      "Requirement already satisfied: threadpoolctl<4,>=2.0.0 in c:\\users\\cvr\\anaconda3\\lib\\site-packages (from imbalanced-learn) (3.5.0)\n",
      "Downloading imbalanced_learn-0.13.0-py3-none-any.whl (238 kB)\n",
      "   ---------------------------------------- 0.0/238.4 kB ? eta -:--:--\n",
      "   -------------------- ------------------- 122.9/238.4 kB 3.5 MB/s eta 0:00:01\n",
      "   ---------------------------------------- 238.4/238.4 kB 3.6 MB/s eta 0:00:00\n",
      "Downloading sklearn_compat-0.1.3-py3-none-any.whl (18 kB)\n",
      "Installing collected packages: sklearn-compat, imbalanced-learn\n",
      "  Attempting uninstall: imbalanced-learn\n",
      "    Found existing installation: imbalanced-learn 0.10.1\n",
      "    Uninstalling imbalanced-learn-0.10.1:\n",
      "      Successfully uninstalled imbalanced-learn-0.10.1\n",
      "Successfully installed imbalanced-learn-0.13.0 sklearn-compat-0.1.3\n",
      "Note: you may need to restart the kernel to use updated packages.\n"
     ]
    }
   ],
   "source": [
    "pip install --upgrade imbalanced-learn"
   ]
  },
  {
   "cell_type": "markdown",
   "id": "a05bde93",
   "metadata": {},
   "source": [
    "**SMOTE**"
   ]
  },
  {
   "cell_type": "markdown",
   "id": "9404984e",
   "metadata": {},
   "source": [
    "1. SMOTE generates synthetic samples instead of duplicating existing ones\n",
    "\n",
    "2. Convert categorical class labels into numeric form for SMOTE to work.\n",
    "\n",
    "3. Apply SMOTE to balance the dataset\n",
    "\n",
    "4. Convert back to original categorical labels\n",
    "\n",
    "5. Combine the resampled data into a final balanced dataset"
   ]
  },
  {
   "cell_type": "code",
   "execution_count": 1,
   "id": "e3b4704d",
   "metadata": {},
   "outputs": [
    {
     "name": "stdout",
     "output_type": "stream",
     "text": [
      "Class\n",
      "Minority    9\n",
      "Majority    9\n",
      "Name: count, dtype: int64\n",
      "    Age  Income     Class\n",
      "0    22    2000  Minority\n",
      "1    25    2500  Majority\n",
      "2    27    2700  Majority\n",
      "3    28    3200  Majority\n",
      "4    30    3500  Majority\n",
      "5    35    3800  Minority\n",
      "6    40    4000  Minority\n",
      "7    45    4200  Minority\n",
      "8    50    4300  Majority\n",
      "9    55    4500  Majority\n",
      "10   60    5000  Majority\n",
      "11   65    5500  Majority\n",
      "12   70    6000  Majority\n",
      "13   40    4031  Minority\n",
      "14   35    3831  Minority\n",
      "15   44    4176  Minority\n",
      "16   35    3826  Minority\n",
      "17   41    4040  Minority\n"
     ]
    }
   ],
   "source": [
    "import pandas as pd\n",
    "from imblearn.over_sampling import SMOTE\n",
    "\n",
    "# Sample dataset\n",
    "df = pd.DataFrame({\n",
    "    'Age': [22, 25, 27, 28, 30, 35, 40, 45, 50, 55, 60, 65, 70],\n",
    "    'Income': [2000, 2500, 2700, 3200, 3500, 3800, 4000, 4200, 4300, 4500, 5000, 5500, 6000],\n",
    "    'Class': ['Minority', 'Majority', 'Majority', 'Majority', 'Majority',\n",
    "              'Minority', 'Minority', 'Minority', 'Majority', 'Majority',\n",
    "              'Majority', 'Majority', 'Majority']\n",
    "})\n",
    "\n",
    "# Step 1: Convert categorical labels to numerical values\n",
    "df['Class'] = df['Class'].map({'Majority': 0, 'Minority': 1})\n",
    "\n",
    "# Step 2: Split features (X) and target variable (y)\n",
    "X = df[['Age', 'Income']]\n",
    "y = df['Class']\n",
    "\n",
    "# Step 3: Apply SMOTE with k_neighbors=3 (reducing from default 5)\n",
    "smote = SMOTE(sampling_strategy='auto', random_state=42, k_neighbors=3)\n",
    "X_resampled, y_resampled = smote.fit_resample(X, y)\n",
    "\n",
    "# Step 4: Convert numeric labels back to categorical\n",
    "y_resampled = y_resampled.map({0: 'Majority', 1: 'Minority'})\n",
    "\n",
    "# Step 5: Combine the resampled dataset\n",
    "df_balanced = pd.concat([pd.DataFrame(X_resampled, columns=['Age', 'Income']),\n",
    "                         pd.DataFrame(y_resampled, columns=['Class'])], axis=1)\n",
    "\n",
    "# Step 6: Print class distribution\n",
    "print(df_balanced['Class'].value_counts())\n",
    "\n",
    "# Step 7: Display the upsampled dataset\n",
    "print(df_balanced)"
   ]
  }
 ],
 "metadata": {
  "kernelspec": {
   "display_name": "Python 3 (ipykernel)",
   "language": "python",
   "name": "python3"
  },
  "language_info": {
   "codemirror_mode": {
    "name": "ipython",
    "version": 3
   },
   "file_extension": ".py",
   "mimetype": "text/x-python",
   "name": "python",
   "nbconvert_exporter": "python",
   "pygments_lexer": "ipython3",
   "version": "3.11.5"
  }
 },
 "nbformat": 4,
 "nbformat_minor": 5
}
